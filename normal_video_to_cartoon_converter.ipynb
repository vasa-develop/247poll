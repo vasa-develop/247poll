{
  "nbformat": 4,
  "nbformat_minor": 0,
  "metadata": {
    "colab": {
      "name": "normal video to cartoon converter",
      "provenance": [],
      "gpuType": "T4",
      "include_colab_link": true
    },
    "kernelspec": {
      "display_name": "Python 3",
      "name": "python3"
    },
    "accelerator": "GPU"
  },
  "cells": [
    {
      "cell_type": "markdown",
      "metadata": {
        "id": "view-in-github",
        "colab_type": "text"
      },
      "source": [
        "<a href=\"https://colab.research.google.com/github/vasa-develop/247poll/blob/master/normal_video_to_cartoon_converter.ipynb\" target=\"_parent\"><img src=\"https://colab.research.google.com/assets/colab-badge.svg\" alt=\"Open In Colab\"/></a>"
      ]
    },
    {
      "cell_type": "code",
      "metadata": {
        "id": "WmwE-37dytvw"
      },
      "source": [
        "#For image to  cartoon we are using White-box-Cartoonization\n",
        "#https://github.com/SystemErrorWang/White-box-Cartoonization\n",
        "#For cartoon upscaling we are using waifu2x-chainer\n",
        "# https://github.com/tsurumeso/waifu2x-chainer"
      ],
      "execution_count": 2,
      "outputs": []
    },
    {
      "cell_type": "code",
      "metadata": {
        "colab": {
          "base_uri": "https://localhost:8080/"
        },
        "id": "-GabezAPm5-7",
        "outputId": "6e073df0-e527-4ca3-83ce-8516c1082392"
      },
      "source": [
        "# @title ##**Use your drive storage or colab** { display-mode: \"form\" }\n",
        "\n",
        "from google.colab import drive\n",
        "from IPython.display import clear_output\n",
        "import os\n",
        "storage=\"temporary\"#@param[\"temporary\",\"google drive\"]\n",
        "if storage==\"google drive\":\n",
        "  drive.mount('/content/gdrive')\n",
        "  os.chdir(\"/content/gdrive/MyDrive/\")\n",
        "  clear_output()\n",
        "  print(\"Using drive as a storage\")\n",
        "elif storage==\"temporary\":\n",
        "  os.chdir(\"/content/\")\n",
        "  print(\"Using colab as a temporary storage\")"
      ],
      "execution_count": 3,
      "outputs": [
        {
          "output_type": "stream",
          "name": "stdout",
          "text": [
            "Using colab as a temporary storage\n"
          ]
        }
      ]
    },
    {
      "cell_type": "code",
      "metadata": {
        "colab": {
          "base_uri": "https://localhost:8080/",
          "height": 35
        },
        "id": "PKphfSyOnQf8",
        "outputId": "1b8fb78d-1d73-423f-951e-c740749b81e0"
      },
      "source": [
        "pwd"
      ],
      "execution_count": 4,
      "outputs": [
        {
          "output_type": "execute_result",
          "data": {
            "text/plain": [
              "'/content'"
            ],
            "application/vnd.google.colaboratory.intrinsic+json": {
              "type": "string"
            }
          },
          "metadata": {},
          "execution_count": 4
        }
      ]
    },
    {
      "cell_type": "code",
      "metadata": {
        "id": "H0oI8zJpSEXZ",
        "colab": {
          "base_uri": "https://localhost:8080/",
          "height": 17
        },
        "outputId": "e4c52e10-485f-4aed-83a6-ecc14f0bbe19"
      },
      "source": [
        "# @title ##**It stop reconneting when uploading** { display-mode: \"form\" }\n",
        "\n",
        "import IPython\n",
        "from google.colab import output\n",
        "\n",
        "display(IPython.display.Javascript('''\n",
        "function ClickConnect(){\n",
        "  btn = document.querySelector(\"colab-connect-button\")\n",
        "  if (btn != null){\n",
        "    console.log(\"Click colab-connect-button\");\n",
        "    btn.click()\n",
        "    }\n",
        "\n",
        "  btn = document.getElementById('ok')\n",
        "  if (btn != null){\n",
        "    console.log(\"Click reconnect\");\n",
        "    btn.click()\n",
        "    }\n",
        "  }\n",
        "\n",
        "setInterval(ClickConnect,60000)\n",
        "'''))"
      ],
      "execution_count": 5,
      "outputs": [
        {
          "output_type": "display_data",
          "data": {
            "text/plain": [
              "<IPython.core.display.Javascript object>"
            ],
            "application/javascript": [
              "\n",
              "function ClickConnect(){\n",
              "  btn = document.querySelector(\"colab-connect-button\")\n",
              "  if (btn != null){\n",
              "    console.log(\"Click colab-connect-button\"); \n",
              "    btn.click() \n",
              "    }\n",
              "    \n",
              "  btn = document.getElementById('ok')\n",
              "  if (btn != null){\n",
              "    console.log(\"Click reconnect\"); \n",
              "    btn.click() \n",
              "    }\n",
              "  }\n",
              "    \n",
              "setInterval(ClickConnect,60000)\n"
            ]
          },
          "metadata": {}
        }
      ]
    },
    {
      "cell_type": "code",
      "metadata": {
        "id": "iqZFgCurvQtg"
      },
      "source": [
        "!rm -rf ./normal-video-to-cartoon-video"
      ],
      "execution_count": 6,
      "outputs": []
    },
    {
      "cell_type": "code",
      "metadata": {
        "id": "48iTLVRscEKN",
        "colab": {
          "base_uri": "https://localhost:8080/"
        },
        "outputId": "963caaa3-12f7-4e57-ee7c-f5d16e4152c6"
      },
      "source": [
        "!git clone https://github.com/bmox/normal-video-to-cartoon-video.git"
      ],
      "execution_count": 7,
      "outputs": [
        {
          "output_type": "stream",
          "name": "stdout",
          "text": [
            "Cloning into 'normal-video-to-cartoon-video'...\n",
            "remote: Enumerating objects: 239, done.\u001b[K\n",
            "remote: Counting objects: 100% (19/19), done.\u001b[K\n",
            "remote: Compressing objects: 100% (5/5), done.\u001b[K\n",
            "remote: Total 239 (delta 16), reused 14 (delta 14), pack-reused 220 (from 2)\u001b[K\n",
            "Receiving objects: 100% (239/239), 57.11 MiB | 20.35 MiB/s, done.\n",
            "Resolving deltas: 100% (68/68), done.\n"
          ]
        }
      ]
    },
    {
      "cell_type": "code",
      "metadata": {
        "colab": {
          "base_uri": "https://localhost:8080/"
        },
        "id": "7MwEsAZhRJEm",
        "outputId": "1e3a48c0-c3cc-4da8-bd7b-1971c14f3f54"
      },
      "source": [
        "%cd ./normal-video-to-cartoon-video/cartoonization"
      ],
      "execution_count": 8,
      "outputs": [
        {
          "output_type": "stream",
          "name": "stdout",
          "text": [
            "/content/normal-video-to-cartoon-video/cartoonization\n"
          ]
        }
      ]
    },
    {
      "cell_type": "code",
      "metadata": {
        "id": "CjmbKMpnRCT4",
        "colab": {
          "base_uri": "https://localhost:8080/"
        },
        "outputId": "5ecc5601-86f1-4f91-f98e-417a3f2ecd88"
      },
      "source": [
        "!pip install -r requirements.txt"
      ],
      "execution_count": 9,
      "outputs": [
        {
          "output_type": "stream",
          "name": "stdout",
          "text": [
            "\u001b[31mERROR: Could not find a version that satisfies the requirement tensorflow-gpu==1.15 (from versions: 2.12.0)\u001b[0m\u001b[31m\n",
            "\u001b[0m\u001b[31mERROR: No matching distribution found for tensorflow-gpu==1.15\u001b[0m\u001b[31m\n",
            "\u001b[0m"
          ]
        }
      ]
    },
    {
      "cell_type": "code",
      "metadata": {
        "colab": {
          "base_uri": "https://localhost:8080/",
          "height": 398
        },
        "id": "GLGuGRLzr6U3",
        "outputId": "a83d3820-e91f-4dc9-be0a-56bc50edee7b"
      },
      "source": [
        "# @title ##**Check 4k video quality** { display-mode: \"form\" }\n",
        "#@markdown ##### Copy the output and run into next cell(if you are using youtube video)\n",
        "from IPython.display import HTML\n",
        "enter_youtube_link = \"https://youtu.be/RXPVd_IRTcU\" #@param {type:\"string\"}\n",
        "youtube_id=enter_youtube_link.split(\"/\")\n",
        "four_k_quality_check=f\"!youtube-dl --list-formats https://www.youtube.com/watch?v={youtube_id[-1]} | grep 2160\"\n",
        "\n",
        "html_code=\"<h3>Watch original youtube video</h3>\"\n",
        "display(HTML(html_code))\n",
        "youtube_video_display=\"\"\n",
        "youtube_video_display='<iframe width=\"'+str(560)+'\" height=\"'+str(315)+'\"\\nsrc=\"https://www.youtube.com/embed/'+youtube_id[-1]+'\"></iframe>'\n",
        "display(HTML(youtube_video_display))\n",
        "four_k_quality_check"
      ],
      "execution_count": null,
      "outputs": [
        {
          "output_type": "display_data",
          "data": {
            "text/html": [
              "<h3>Watch original youtube video</h3>"
            ],
            "text/plain": [
              "<IPython.core.display.HTML object>"
            ]
          },
          "metadata": {
            "tags": []
          }
        },
        {
          "output_type": "display_data",
          "data": {
            "text/html": [
              "<iframe width=\"560\" height=\"315\"\n",
              "src=\"https://www.youtube.com/embed/RXPVd_IRTcU\"></iframe>"
            ],
            "text/plain": [
              "<IPython.core.display.HTML object>"
            ]
          },
          "metadata": {
            "tags": []
          }
        },
        {
          "output_type": "execute_result",
          "data": {
            "application/vnd.google.colaboratory.intrinsic+json": {
              "type": "string"
            },
            "text/plain": [
              "'!youtube-dl --list-formats https://www.youtube.com/watch?v=RXPVd_IRTcU | grep 2160'"
            ]
          },
          "metadata": {
            "tags": []
          },
          "execution_count": 43
        }
      ]
    },
    {
      "cell_type": "code",
      "metadata": {
        "colab": {
          "base_uri": "https://localhost:8080/",
          "height": 35
        },
        "id": "lKnxteOosCiV",
        "outputId": "65dc1afb-5dcc-4369-b304-9aedd356c462"
      },
      "source": [
        "# @title ##**Check all video quality** { display-mode: \"form\" }\n",
        "#@markdown ##### Copy the output and run into next cell(if you are using youtube video)\n",
        "check_all_quality=f\"!youtube-dl --list-formats https://www.youtube.com/watch?v={youtube_id[-1]} | grep mp4\"\n",
        "check_all_quality"
      ],
      "execution_count": null,
      "outputs": [
        {
          "output_type": "execute_result",
          "data": {
            "application/vnd.google.colaboratory.intrinsic+json": {
              "type": "string"
            },
            "text/plain": [
              "'!youtube-dl --list-formats https://www.youtube.com/watch?v=RXPVd_IRTcU | grep mp4'"
            ]
          },
          "metadata": {
            "tags": []
          },
          "execution_count": 44
        }
      ]
    },
    {
      "cell_type": "code",
      "metadata": {
        "id": "JEMrZZHRsFI2"
      },
      "source": [
        "!youtube-dl --list-formats https://www.youtube.com/watch?v=RXPVd_IRTcU | grep 2160"
      ],
      "execution_count": null,
      "outputs": []
    },
    {
      "cell_type": "code",
      "metadata": {
        "id": "9ySKJvVQsGnu"
      },
      "source": [
        "!youtube-dl --list-formats https://www.youtube.com/watch?v=RXPVd_IRTcU | grep mp4"
      ],
      "execution_count": null,
      "outputs": []
    },
    {
      "cell_type": "code",
      "metadata": {
        "colab": {
          "base_uri": "https://localhost:8080/",
          "height": 35
        },
        "id": "y2qdq8uSzrcJ",
        "cellView": "form",
        "outputId": "4383ae15-7d36-4fb7-f2ab-d52708517380"
      },
      "source": [
        "import os\n",
        "enter_youtube_link = \"https://youtu.be/RXPVd_IRTcU\" #@param {type:\"string\"}\n",
        "youtube_quality = \"Auto\"#@param [\"Manual\",\"Auto\"]\n",
        "quality_number = \"137\" #@param {type:\"string\"}\n",
        "select_duration =\"some_part\" #@param[\"full_video\",\"some_part\"]\n",
        "enter_start_time= \"00:00:00\" #@param {type:\"string\"}\n",
        "enter_end_time= \"00:00:10\" #@param {type:\"string\"}\n",
        "upscale =\"yes\" #@param[\"yes\",\"no\"]\n",
        "\n",
        "argumet=\"!python main.py \"+f\"'{enter_youtube_link},{youtube_quality},{quality_number},{select_duration},{enter_start_time},{enter_end_time},{upscale}'\"\n",
        "argumet"
      ],
      "execution_count": null,
      "outputs": [
        {
          "output_type": "execute_result",
          "data": {
            "application/vnd.google.colaboratory.intrinsic+json": {
              "type": "string"
            },
            "text/plain": [
              "\"!python main.py 'https://youtu.be/RXPVd_IRTcU,Manual,137,some_part,00:00:00,00:00:10,yes'\""
            ]
          },
          "metadata": {
            "tags": []
          },
          "execution_count": 43
        }
      ]
    },
    {
      "cell_type": "code",
      "metadata": {
        "id": "U_dFuBg0i3gb"
      },
      "source": [
        "!python main.py 'https://youtu.be/RXPVd_IRTcU,Manual,137,some_part,00:00:00,00:00:10,yes'"
      ],
      "execution_count": null,
      "outputs": []
    },
    {
      "cell_type": "code",
      "metadata": {
        "colab": {
          "base_uri": "https://localhost:8080/",
          "height": 35
        },
        "id": "g2f4j46Bx0W3",
        "outputId": "e825795b-33dc-4246-f126-9fd4b114cf5a"
      },
      "source": [
        "pwd"
      ],
      "execution_count": null,
      "outputs": [
        {
          "output_type": "execute_result",
          "data": {
            "application/vnd.google.colaboratory.intrinsic+json": {
              "type": "string"
            },
            "text/plain": [
              "'/content/normal-video-to-cartoon-video/cartoonization'"
            ]
          },
          "metadata": {
            "tags": []
          },
          "execution_count": 45
        }
      ]
    },
    {
      "cell_type": "code",
      "metadata": {
        "id": "c9anJfNqx29v"
      },
      "source": [
        "!rm -rf ./cartoonized_images\n",
        "!rm -rf ./saved_models\n",
        "!rm -rf ./test_images\n",
        "!rm -rf ./saved_models\n",
        "!rm -rf ./waifu2x-chainer-master"
      ],
      "execution_count": null,
      "outputs": []
    },
    {
      "cell_type": "code",
      "metadata": {
        "colab": {
          "base_uri": "https://localhost:8080/",
          "height": 380
        },
        "id": "LNhiX8iqVd4i",
        "cellView": "form",
        "outputId": "acdfa213-ddac-4b0e-9cf6-b1dc2cd29c75"
      },
      "source": [
        "from IPython.display import HTML\n",
        "enter_youtube_link = \"https://youtu.be/RXPVd_IRTcU\" #@param {type:\"string\"}\n",
        "youtube_id=enter_youtube_link.split(\"/\")\n",
        "html_code=\"<h3>Watch original youtube video</h3>\"\n",
        "display(HTML(html_code))\n",
        "youtube_video_display=\"\"\n",
        "youtube_video_display='<iframe width=\"'+str(560)+'\" height=\"'+str(315)+'\"\\nsrc=\"https://www.youtube.com/embed/'+youtube_id[-1]+'\"></iframe>'\n",
        "display(HTML(youtube_video_display))"
      ],
      "execution_count": null,
      "outputs": [
        {
          "output_type": "display_data",
          "data": {
            "text/html": [
              "<h3>Watch original youtube video</h3>"
            ],
            "text/plain": [
              "<IPython.core.display.HTML object>"
            ]
          },
          "metadata": {
            "tags": []
          }
        },
        {
          "output_type": "display_data",
          "data": {
            "text/html": [
              "<iframe width=\"560\" height=\"315\"\n",
              "src=\"https://www.youtube.com/embed/RXPVd_IRTcU\"></iframe>"
            ],
            "text/plain": [
              "<IPython.core.display.HTML object>"
            ]
          },
          "metadata": {
            "tags": []
          }
        }
      ]
    },
    {
      "cell_type": "code",
      "metadata": {
        "colab": {
          "base_uri": "https://localhost:8080/",
          "height": 301
        },
        "id": "AHCW_8VQVbG2",
        "outputId": "767d19a8-eaa9-41f6-f4ef-83d022cc2f6f"
      },
      "source": [
        "# @title ##**paste a path to the watch video** { display-mode: \"form\" }\n",
        "enter_the_path = \"/content/normal-video-to-cartoon-video/cartoonization/input_video/cartoon.mkv\" #@param {type:\"string\"}\n",
        "!pip install -U kora\n",
        "from kora.drive import upload_public\n",
        "from IPython.display import HTML\n",
        "from IPython.display import clear_output\n",
        "url = upload_public(enter_the_path)\n",
        "clear_output()\n",
        "HTML(f\"\"\"<video src={url} width=500 controls/>\"\"\")"
      ],
      "execution_count": null,
      "outputs": [
        {
          "output_type": "execute_result",
          "data": {
            "text/html": [
              "<video src=https://drive.google.com/uc?id=17U_SndNQhHWWw7veotpRsiN5wBV5Sj_F width=500 controls/>"
            ],
            "text/plain": [
              "<IPython.core.display.HTML object>"
            ]
          },
          "metadata": {
            "tags": []
          },
          "execution_count": 48
        }
      ]
    },
    {
      "cell_type": "code",
      "metadata": {
        "id": "grQyRN3h44Gr"
      },
      "source": [
        "# @title ##**Save to drive if you are using temporary storage** { display-mode: \"form\" }\n",
        "\n",
        "enter_the_path = \"/content/normal-video-to-cartoon-video/cartoonization/input_video/cartoon_audio.mkv\" #@param {type:\"string\"}\n",
        "\n",
        "import shutil\n",
        "if storage==\"temporary\":\n",
        "  drive.mount('/content/gdrive')\n",
        "  clear_output()\n",
        "  try:\n",
        "    os.mkdir(\"/content/gdrive/MyDrive/cartoon_video\")\n",
        "  except:\n",
        "    pass\n",
        "  shutil.copy(f\"{enter_the_path}\",\"/content/gdrive/MyDrive/cartoon_video/\")\n",
        ""
      ],
      "execution_count": null,
      "outputs": []
    }
  ]
}